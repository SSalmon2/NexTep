{
 "cells": [
  {
   "cell_type": "code",
   "execution_count": 19,
   "metadata": {},
   "outputs": [],
   "source": [
    "from sklearn.metrics import roc_curve\n",
    "from sklearn.metrics import auc\n",
    "from sklearn.metrics import classification_report\n",
    "from sklearn.metrics import precision_score\n",
    "from sklearn.metrics import recall_score\n",
    "from sklearn.metrics import f1_score\n",
    "import pandas as pd\n",
    "import numpy as np\n",
    "from numpy.linalg import norm\n",
    "from numpy import (array, dot, arccos, clip)\n",
    "import statistics\n",
    "import math\n",
    "from sklearn.svm import SVC\n",
    "import joblib"
   ]
  },
  {
   "cell_type": "code",
   "execution_count": 63,
   "metadata": {},
   "outputs": [],
   "source": [
    "def delcolumns(X):\n",
    "    X = pd.DataFrame(X)\n",
    "    for t in X.columns:\n",
    "        if 'X' in t or 'Y' in t:\n",
    "            continue\n",
    "        else:\n",
    "            X = X.drop([t],axis=1)\n",
    "    X = np.array(X)\n",
    "    for i in range(len(X)):\n",
    "        for j in range(len(X[i])):\n",
    "            if (round(X[i][j],5) == 0):\n",
    "                X[i][j] = np.nan\n",
    "    return X\n",
    "\n",
    "def get_vector(X,Y):\n",
    "    X = np.array(X)\n",
    "    Y = np.array(Y)\n",
    "    Z = X-Y\n",
    "    Z = Z.tolist()\n",
    "    return Z\n",
    "def vector_joint(A):\n",
    "    avlist= []\n",
    "    for i in range(len(A)):\n",
    "        vlist = []\n",
    "        v1 = get_vector((A[i][12],A[i][13]),(A[i][10],A[i][11]))\n",
    "        v2 = get_vector((A[i][12],A[i][13]),(A[i][14],A[i][15]))\n",
    "        v3 = get_vector((A[i][6],A[i][7]),(A[i][4],A[i][5]))\n",
    "        v4 = get_vector((A[i][6],A[i][7]),(A[i][8],A[i][9]))\n",
    "        v5 = get_vector((A[i][26],A[i][27]),(A[i][24],A[i][25]))\n",
    "        v6 = get_vector((A[i][26],A[i][27]),(A[i][28],A[i][29]))\n",
    "        v7 = get_vector((A[i][20],A[i][21]),(A[i][18],A[i][19]))\n",
    "        v8 = get_vector((A[i][20],A[i][21]),(A[i][22],A[i][23]))\n",
    "        v9 = get_vector((A[i][10],A[i][11]),(A[i][2],A[i][3]))\n",
    "        v10 = get_vector((A[i][4],A[i][5]),(A[i][2],A[i][3]))\n",
    "        v11 = get_vector((A[i][24],A[i][25]),(A[i][16],A[i][17]))\n",
    "        v12 = get_vector((A[i][18],A[i][19]),(A[i][16],A[i][17]))\n",
    "        v13 = get_vector((A[i][2],A[i][3]),(A[i][0],A[i][1]))\n",
    "        vlist.extend(v1+v2+v3+v4+v5+v6+v7+v8+v9+v10+v11+v12+v13)\n",
    "        avlist.append(vlist)\n",
    "    return avlist\n",
    "def get_angle(X,Y,Z):\n",
    "    u = Z - X\n",
    "    v = Y - X\n",
    "    if norm(u) == 0 or norm(v)==0:\n",
    "        angle = 180\n",
    "    else:\n",
    "        cos = dot(u,v)/norm(u)/norm(v) # -> cosine of the angle\n",
    "        angle = arccos(clip(cos, -1, 1)) # --> 라디안값으로 나옴\n",
    "        angle = angle * (180/math.pi)\n",
    "    return angle\n",
    "def get_whole_angle(A):\n",
    "    parr = np.array(A)\n",
    "    alist = []\n",
    "    for i in range(len(parr)):\n",
    "        prealist = []\n",
    "        la_a = get_angle(np.array([parr[i][12],parr[i][13]]),np.array([parr[i][10],parr[i][11]]),np.array([parr[i][14],parr[i][15]]))\n",
    "        ra_a = get_angle(np.array([parr[i][6],parr[i][7]]),np.array([parr[i][4],parr[i][5]]),np.array([parr[i][8],parr[i][9]]))\n",
    "        lk_a = get_angle(np.array([parr[i][26],parr[i][27]]),np.array([parr[i][24],parr[i][25]]),np.array([parr[i][28],parr[i][29]]))\n",
    "        rk_a = get_angle(np.array([parr[i][20],parr[i][21]]),np.array([parr[i][18],parr[i][19]]),np.array([parr[i][22],parr[i][23]]))\n",
    "        ls_a = get_angle(np.array([parr[i][10],parr[i][11]]),np.array([parr[i][12],parr[i][13]]),np.array([parr[i][2],parr[i][3]]))\n",
    "        rs_a = get_angle(np.array([parr[i][4],parr[i][5]]),np.array([parr[i][6],parr[i][7]]),np.array([parr[i][2],parr[i][3]]))\n",
    "        lh_a = get_angle(np.array([parr[i][24],parr[i][25]]),np.array([parr[i][26],parr[i][27]]),np.array([parr[i][16],parr[i][17]]))\n",
    "        rh_a = get_angle(np.array([parr[i][18],parr[i][19]]),np.array([parr[i][20],parr[i][21]]),np.array([parr[i][16],parr[i][17]]))\n",
    "        ln_a = get_angle(np.array([parr[i][2],parr[i][3]]),np.array([parr[i][10],parr[i][11]]),np.array([parr[i][0],parr[i][1]]))\n",
    "        rn_a = get_angle(np.array([parr[i][2],parr[i][3]]),np.array([parr[i][4],parr[i][5]]),np.array([parr[i][0],parr[i][1]]))\n",
    "        prealist = [la_a,ra_a,lk_a,rk_a,ls_a,rs_a,lh_a,rh_a,ln_a,rn_a]\n",
    "        alist.append(prealist)\n",
    "    return alist\n",
    "\n",
    "def merge(X,Y):\n",
    "    mergelist= []\n",
    "    for i in range(len(X)):\n",
    "        result = X[i]+Y[i]\n",
    "        mergelist.append(result)\n",
    "    merge_arr=np.array(mergelist)\n",
    "    return merge_arr\n",
    "\n",
    "from math import sqrt\n",
    "def qmean(num):\n",
    "\treturn sqrt(sum(n*n for n in num)/len(num))\n",
    "\n",
    "def get_feature(X,Y):\n",
    "    Xn = 0\n",
    "    up_X = X\n",
    "    up_Y = Y\n",
    "    Xn = 0\n",
    "    for i in range(0,13):\n",
    "        if (np.isnan(X[i]) == True ) or (np.isnan(Y[i]) == True ):\n",
    "            up_X = np.delete(up_X,i-Xn)\n",
    "            up_Y = np.delete(up_Y,i-Xn)\n",
    "            Xn = Xn+1\n",
    "    Yn = 0\n",
    "    for j in range(13,26):\n",
    "        if (np.isnan(X[j]) == True ) or (np.isnan(Y[j]) == True ):\n",
    "            up_X = np.delete(up_X,j-Yn-Xn)\n",
    "            up_Y = np.delete(up_Y,j-Yn-Xn)\n",
    "            Yn = Yn+1\n",
    "    Zn = 0\n",
    "    for k in range(26,36):\n",
    "        if (np.isnan(X[k]) == True ) or (np.isnan(Y[k]) == True) :\n",
    "            up_X = np.delete(up_X,k-Xn-Zn-Yn)\n",
    "            up_Y = np.delete(up_Y,k-Xn-Zn-Yn)\n",
    "            Zn = Zn+1\n",
    "\n",
    "    Xx_vec = up_X[:13-Xn]\n",
    "    Xy_vec = up_X[13-Xn:26-Xn-Yn]\n",
    "    X_ang = up_X[26-Xn-Yn:]\n",
    "    Yx_vec = up_Y[:13-Xn]\n",
    "    Yy_vec = up_Y[13-Xn:26-Xn-Yn]\n",
    "    Y_ang = up_Y[26-Xn-Yn:]\n",
    "    #Xx_vec 노말라이즈\n",
    "    Xx_max,Xx_min = max(Xx_vec),min(Xx_vec)\n",
    "    Xx_term = Xx_max - Xx_min\n",
    "    Xy_max,Xy_min = max(Xy_vec),min(Xy_vec)\n",
    "    Xy_term = Xy_max - Xy_min\n",
    "    for i in range(len(Xx_vec)):\n",
    "        Xx_vec[i] = (Xx_vec[i] - Xx_min)/Xx_term\n",
    "    for j in range(len(Xy_vec)):\n",
    "        Xy_vec[j] = (Xy_vec[j] - Xy_min)/Xy_term\n",
    "    Yx_max,Yx_min = max(Yx_vec),min(Yx_vec)\n",
    "    Yx_term = Yx_max - Yx_min\n",
    "    Yy_max,Yy_min = max(Yy_vec),min(Yy_vec)\n",
    "    Yy_term = Yy_max - Yy_min\n",
    "    for i in range(len(Yx_vec)):\n",
    "        Yx_vec[i] = (Yx_vec[i] - Yx_min)/Yx_term\n",
    "    for j in range(len(Yy_vec)):\n",
    "        Yy_vec[j] = (Yy_vec[j] - Yy_min)/Yy_term\n",
    "    \n",
    "    ang_dis = X_ang-Y_ang\n",
    "    X_dis = Xx_vec-Yx_vec\n",
    "    Y_dis = Xy_vec-Yy_vec\n",
    "    \n",
    "    ang_std = statistics.stdev(ang_dis)\n",
    "    ang_avg = statistics.mean(ang_dis)\n",
    "    ang_rms = qmean(ang_dis)\n",
    "    \n",
    "    Xvec_std = statistics.stdev(X_dis)\n",
    "    Xvec_avg = statistics.mean(X_dis)\n",
    "    Xvec_rms = qmean(X_dis)\n",
    "    \n",
    "    Yvec_std = statistics.stdev(Y_dis)\n",
    "    Yvec_avg = statistics.mean(Y_dis)\n",
    "    Yvec_rms = qmean(Y_dis)\n",
    "    \n",
    "    flist = [Xvec_std,Xvec_avg,Xvec_rms,Yvec_std,Yvec_std,Yvec_rms,ang_std,ang_avg,ang_rms]\n",
    "    return flist[:6]\n",
    "\n",
    "def norm_vec(X):\n",
    "    r_list = []\n",
    "    for i in range(len(X)):\n",
    "        x_list = []\n",
    "        y_list = []\n",
    "        tx_list = []\n",
    "        ty_list = []\n",
    "        for j in range(len(X[i])):\n",
    "            x = X[i][j]\n",
    "            if j %2 == 0:\n",
    "                x_list.append(x)\n",
    "            else:\n",
    "                y_list.append(x)\n",
    "        t = x_list + y_list\n",
    "        r_list.append(t)\n",
    "    return r_list"
   ]
  },
  {
   "cell_type": "markdown",
   "metadata": {},
   "source": [
    "* 사용 함수들"
   ]
  },
  {
   "cell_type": "code",
   "execution_count": 3,
   "metadata": {},
   "outputs": [],
   "source": [
    "def preprocessing(df):\n",
    "    ddf = delcolumns(df)\n",
    "    vector = vector_joint(ddf)\n",
    "    norm_vector = norm_vec(vector)\n",
    "    angle = get_whole_angle(ddf)\n",
    "    result = merge(norm_vector,angle)\n",
    "\n",
    "    return result"
   ]
  },
  {
   "cell_type": "code",
   "execution_count": 10,
   "metadata": {},
   "outputs": [],
   "source": [
    "def make_label(arr1, arr2, x_lis, y_lis,label):\n",
    "    for i in range(0, len(arr1)):\n",
    "        features = get_feature(arr1[i],arr2[i])\n",
    "        x_lis.append(features)\n",
    "        y_lis.append(label)\n",
    "    return x_lis, y_lis"
   ]
  },
  {
   "cell_type": "code",
   "execution_count": 9,
   "metadata": {},
   "outputs": [],
   "source": [
    "def SVM(X_train, Y_train):\n",
    "    from sklearn.svm import SVC\n",
    "    svm = SVC(kernel='linear', C=1.0, random_state=42)\n",
    "\n",
    "    svm.fit(X_train, Y_train)\n",
    "\n",
    "    accuracy = svm.score(X_test, Y_test)\n",
    "\n",
    "    print('The accuracy on testing set is: {0:.1f}%'.format(accuracy*100))\n",
    "    \n",
    "    return svm"
   ]
  },
  {
   "cell_type": "code",
   "execution_count": 8,
   "metadata": {},
   "outputs": [],
   "source": [
    "def RF(X_train, Y_train):\n",
    "    from sklearn.model_selection import GridSearchCV\n",
    "    from sklearn.metrics import roc_auc_score\n",
    "    from sklearn.linear_model import LogisticRegression\n",
    "    from sklearn.ensemble import RandomForestClassifier\n",
    "\n",
    "    parameters = {'max_depth' : [3, 10, None]}\n",
    "\n",
    "    random_forest = RandomForestClassifier(n_estimators=100, criterion='gini', min_samples_split=30, n_jobs=-1)\n",
    "\n",
    "    grid_search = GridSearchCV(random_forest, parameters, n_jobs=-1, cv=10, scoring='roc_auc')\n",
    "\n",
    "    grid_search.fit(X_train, Y_train)\n",
    "\n",
    "    print(grid_search.best_params_)\n",
    "    random_forest_best = grid_search.best_estimator_\n",
    "    \n",
    "    return random_forest_best"
   ]
  },
  {
   "cell_type": "code",
   "execution_count": 7,
   "metadata": {},
   "outputs": [],
   "source": [
    "def LGBM(X_train, Y_train):\n",
    "    from sklearn.model_selection import GridSearchCV\n",
    "    from lightgbm import LGBMClassifier\n",
    "    lgmb = LGBMClassifier(n_estimators=100)\n",
    "    hyper_params = {'num_leaves': [32, 64],\n",
    "           'max_depth': [128, 160],\n",
    "           'min_child_samples': [60, 100],\n",
    "           'subsample': [0.8, 1]}\n",
    "\n",
    "    lgmv = GridSearchCV(lgmb, \n",
    "                             param_grid=hyper_params, \n",
    "                             verbose=1, \n",
    "                             n_jobs=-1, cv = 3)\n",
    "\n",
    "    lgmv.fit(X_train, Y_train)\n",
    "\n",
    "    lgmv.best_score_\n",
    "    \n",
    "    return lgmv"
   ]
  },
  {
   "cell_type": "code",
   "execution_count": 5,
   "metadata": {},
   "outputs": [],
   "source": [
    "def model_evaluation(X_test, Y_test, filename):\n",
    "    loaded_model1 = joblib.load(filename)\n",
    "    prediction = loaded_model1.predict(X_test)\n",
    "    prediction_prob = loaded_model1.predict_proba(X_test)[:, 1]\n",
    "    fpr, tpr, threshold = roc_curve(Y_test, prediction_prob)\n",
    "    roc_auc = auc(Y_test, prediction_prob)\n",
    "    print('ROC_AUC Score :', roc_auc_score(Y_test,prediction_prob))\n",
    "    target_names = ['class0', 'class1']\n",
    "    print(classification_report(Y_test, prediction, target_names=target_names))\n",
    "    print(\"accuracy : {0:.5f}%\".format(loaded_model1.score(X_test, Y_test)*100))\n",
    "    print(\"precision : {0:.5f}%\".format(precision_score(Y_test, prediction, pos_label=1)*100))\n",
    "    print(\"recall : {0:.5f}%\".format(recall_score(Y_test, prediction, pos_label=1)*100))\n",
    "    print(\"f1 : {0:.5f}%\".format(f1_score(Y_test, prediction, pos_label=1)*100))\n",
    "    plt.plot(fpr, tpr, label='ROC curve (area = %0.3f)' % roc_auc)\n",
    "    plt.plot([0,1],[0,1],'k--')\n",
    "    plt.xlim([0.0, 1.0])\n",
    "    plt.ylim([0.0, 1.0])\n",
    "    plt.legend(loc=\"lower right\")"
   ]
  },
  {
   "cell_type": "code",
   "execution_count": 64,
   "metadata": {},
   "outputs": [],
   "source": [
    "label_1_A = pd.read_csv('1129_22/train_1A_final.csv')\n",
    "label_1_B = pd.read_csv('1129_22/train_1B_final.csv')\n",
    "label_0_A = pd.read_csv('1129_22/train_0A_final.csv')\n",
    "label_0_B = pd.read_csv('1129_22/train_0B_final.csv')\n",
    "\n",
    "l1a = preprocessing(label_1_A)\n",
    "l1b = preprocessing(label_1_B)\n",
    "l0a = preprocessing(label_0_A)\n",
    "l0b = preprocessing(label_0_B)\n",
    "\n",
    "X_train = []\n",
    "Y_train = []\n",
    "\n",
    "X_test = []\n",
    "Y_test = []\n",
    "\n",
    "X_train, Y_train = make_label(l1a[:196],l1b[:196],X_train, Y_train,1)\n",
    "X_train, Y_train= make_label(l0a[:196],l0b[:196],X_train, Y_train,0)\n",
    "\n",
    "X_test, Y_test= make_label(l1a[196:],l1b[196:],X_test, Y_test,1)\n",
    "X_test, Y_test= make_label(l0a[196:],l0b[196:],X_test,Y_test,0)"
   ]
  },
  {
   "cell_type": "markdown",
   "metadata": {},
   "source": [
    "* SVM"
   ]
  },
  {
   "cell_type": "code",
   "execution_count": 61,
   "metadata": {},
   "outputs": [
    {
     "name": "stdout",
     "output_type": "stream",
     "text": [
      "The accuracy on testing set is: 86.5%\n",
      "              precision    recall  f1-score   support\n",
      "\n",
      "           0       0.93      0.87      0.90       114\n",
      "           1       0.74      0.86      0.79        49\n",
      "\n",
      "   micro avg       0.87      0.87      0.87       163\n",
      "   macro avg       0.84      0.86      0.85       163\n",
      "weighted avg       0.87      0.87      0.87       163\n",
      "\n",
      "accuracy : 86.50307%\n",
      "precision : 73.68421%\n",
      "recall : 85.71429%\n",
      "f1 : 79.24528%\n"
     ]
    }
   ],
   "source": [
    "svm = SVM(X_train,Y_train)\n",
    "#joblib.dump(svm, 'SVM.sav')\n",
    "#model_evaluation(X_test, Y_test,'SVM.sav')\n",
    "\n",
    "from sklearn.metrics import classification_report, accuracy_score\n",
    "\n",
    "y_pred_train = svm.predict(X_train)\n",
    "y_pred_test = svm.predict(X_test)\n",
    "\n",
    "print(classification_report(Y_test, y_pred_test))\n",
    "print(\"accuracy : {0:.5f}%\".format(svm.score(X_test, Y_test)*100))\n",
    "print(\"precision : {0:.5f}%\".format(precision_score(Y_test, y_pred_test, pos_label=1)*100))\n",
    "print(\"recall : {0:.5f}%\".format(recall_score(Y_test, y_pred_test, pos_label=1)*100))\n",
    "print(\"f1 : {0:.5f}%\".format(f1_score(Y_test, y_pred_test, pos_label=1)*100))"
   ]
  },
  {
   "cell_type": "markdown",
   "metadata": {},
   "source": [
    "* Random Forest"
   ]
  },
  {
   "cell_type": "code",
   "execution_count": 511,
   "metadata": {},
   "outputs": [
    {
     "name": "stderr",
     "output_type": "stream",
     "text": [
      "/usr/local/lib/python3.6/dist-packages/sklearn/model_selection/_search.py:841: DeprecationWarning: The default of the `iid` parameter will change from True to False in version 0.22 and will be removed in 0.24. This will change numeric results when test-set sizes are unequal.\n",
      "  DeprecationWarning)\n"
     ]
    },
    {
     "name": "stdout",
     "output_type": "stream",
     "text": [
      "{'max_depth': None}\n",
      "ROC_AUC Score : 0.8863862618218018\n",
      "              precision    recall  f1-score   support\n",
      "\n",
      "      class0       0.91      0.91      0.91        82\n",
      "      class1       0.86      0.86      0.86        49\n",
      "\n",
      "   micro avg       0.89      0.89      0.89       131\n",
      "   macro avg       0.89      0.89      0.89       131\n",
      "weighted avg       0.89      0.89      0.89       131\n",
      "\n",
      "accuracy : 89.31298%\n",
      "precision : 85.71429%\n",
      "recall : 85.71429%\n",
      "f1 : 85.71429%\n"
     ]
    },
    {
     "data": {
      "image/png": "[encoded data removed]",
      "text/plain": [
       "<Figure size 432x288 with 1 Axes>"
      ]
     },
     "metadata": {
      "needs_background": "light"
     },
     "output_type": "display_data"
    }
   ],
   "source": [
    "rf = RF(X_train,Y_train)\n",
    "joblib.dump(rf, 'RF.sav')\n",
    "model_evaluation(X_test, Y_test, 'RF.sav')"
   ]
  },
  {
   "cell_type": "markdown",
   "metadata": {},
   "source": [
    "* LightGBM"
   ]
  },
  {
   "cell_type": "code",
   "execution_count": 512,
   "metadata": {},
   "outputs": [
    {
     "name": "stdout",
     "output_type": "stream",
     "text": [
      "Fitting 3 folds for each of 16 candidates, totalling 48 fits\n"
     ]
    },
    {
     "name": "stderr",
     "output_type": "stream",
     "text": [
      "[Parallel(n_jobs=-1)]: Using backend LokyBackend with 12 concurrent workers.\n"
     ]
    },
    {
     "name": "stdout",
     "output_type": "stream",
     "text": [
      "ROC_AUC Score : 0.9150074664011946\n",
      "              precision    recall  f1-score   support\n",
      "\n",
      "      class0       0.91      0.91      0.91        82\n",
      "      class1       0.86      0.86      0.86        49\n",
      "\n",
      "   micro avg       0.89      0.89      0.89       131\n",
      "   macro avg       0.89      0.89      0.89       131\n",
      "weighted avg       0.89      0.89      0.89       131\n",
      "\n",
      "accuracy : 89.31298%\n",
      "precision : 85.71429%\n",
      "recall : 85.71429%\n",
      "f1 : 85.71429%\n"
     ]
    },
    {
     "name": "stderr",
     "output_type": "stream",
     "text": [
      "[Parallel(n_jobs=-1)]: Done  48 out of  48 | elapsed:    0.3s finished\n"
     ]
    },
    {
     "data": {
      "image/png": "[encoded data removed]",
      "text/plain": [
       "<Figure size 432x288 with 1 Axes>"
      ]
     },
     "metadata": {
      "needs_background": "light"
     },
     "output_type": "display_data"
    }
   ],
   "source": [
    "lgbm = LGBM(X_train,Y_train)\n",
    "joblib.dump(lgbm, 'LGBM.sav')\n",
    "model_evaluation(X_test, Y_test, 'LGBM.sav')"
   ]
  },
  {
   "cell_type": "code",
   "execution_count": null,
   "metadata": {},
   "outputs": [],
   "source": []
  }
 ],
 "metadata": {
  "kernelspec": {
   "display_name": "Python 3",
   "language": "python",
   "name": "python3"
  },
  "language_info": {
   "codemirror_mode": {
    "name": "ipython",
    "version": 3
   },
   "file_extension": ".py",
   "mimetype": "text/x-python",
   "name": "python",
   "nbconvert_exporter": "python",
   "pygments_lexer": "ipython3",
   "version": "3.8.1"
  }
 },
 "nbformat": 4,
 "nbformat_minor": 4
}
